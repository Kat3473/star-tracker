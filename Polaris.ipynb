{
  "nbformat": 4,
  "nbformat_minor": 0,
  "metadata": {
    "colab": {
      "provenance": [],
      "gpuType": "T4",
      "mount_file_id": "1mLzXbs-Nap8MtVLL-ylc38MVgtp3RssS",
      "authorship_tag": "ABX9TyOay8xb3ouCvJ3uoeF02hWl",
      "include_colab_link": true
    },
    "kernelspec": {
      "name": "python3",
      "display_name": "Python 3"
    },
    "language_info": {
      "name": "python"
    },
    "accelerator": "GPU"
  },
  "cells": [
    {
      "cell_type": "markdown",
      "metadata": {
        "id": "view-in-github",
        "colab_type": "text"
      },
      "source": [
        "<a href=\"https://colab.research.google.com/github/Kat3473/star-tracker/blob/main/Polaris.ipynb\" target=\"_parent\"><img src=\"https://colab.research.google.com/assets/colab-badge.svg\" alt=\"Open In Colab\"/></a>"
      ]
    },
    {
      "cell_type": "markdown",
      "source": [
        "# Introduction\n",
        "\n",
        "Here is the following step-by-step workflow to train and implement the AI model onto the Arduino.\n",
        "\n",
        "\n",
        "1.   Setup the Python environment on Colab\n",
        "2.   Collect and upload the data\n",
        "3.   Process the data through Colab\n",
        "4.   Train & test the AI model on Colab\n",
        "5.   Convert the model into TensorFlow Lite\n",
        "6.   Encode the model as an Arduino header file and upload it onto the board\n",
        "\n"
      ],
      "metadata": {
        "id": "ww4w0adfQr2h"
      }
    },
    {
      "cell_type": "markdown",
      "source": [
        "# Setup & Imports"
      ],
      "metadata": {
        "id": "DLQlBg-5D86Q"
      }
    },
    {
      "cell_type": "markdown",
      "source": [
        "Install the mediapipe library onto the Colab session. This will allow us to run object detection tasks directly on here. Perfrect for testing the model."
      ],
      "metadata": {
        "id": "9Ls8_VpKjc9M"
      }
    },
    {
      "cell_type": "code",
      "source": [
        "!pip install mediapipe"
      ],
      "metadata": {
        "id": "o4lWVZ0UhqQk"
      },
      "execution_count": null,
      "outputs": []
    },
    {
      "cell_type": "code",
      "source": [
        "!pip install tflite_support"
      ],
      "metadata": {
        "colab": {
          "base_uri": "https://localhost:8080/"
        },
        "id": "GqLP3tVR1KjM",
        "outputId": "19f98d7a-85f8-4298-af3a-42dfce2a157b"
      },
      "execution_count": 22,
      "outputs": [
        {
          "output_type": "stream",
          "name": "stdout",
          "text": [
            "Requirement already satisfied: tflite_support in /usr/local/lib/python3.11/dist-packages (0.4.4)\n",
            "Requirement already satisfied: absl-py>=0.7.0 in /usr/local/lib/python3.11/dist-packages (from tflite_support) (1.4.0)\n",
            "Requirement already satisfied: numpy>=1.20.0 in /usr/local/lib/python3.11/dist-packages (from tflite_support) (1.26.4)\n",
            "Requirement already satisfied: flatbuffers>=2.0 in /usr/local/lib/python3.11/dist-packages (from tflite_support) (25.1.24)\n",
            "Requirement already satisfied: protobuf<4,>=3.18.0 in /usr/local/lib/python3.11/dist-packages (from tflite_support) (3.20.3)\n",
            "Requirement already satisfied: sounddevice>=0.4.4 in /usr/local/lib/python3.11/dist-packages (from tflite_support) (0.5.1)\n",
            "Requirement already satisfied: pybind11>=2.6.0 in /usr/local/lib/python3.11/dist-packages (from tflite_support) (2.13.6)\n",
            "Requirement already satisfied: CFFI>=1.0 in /usr/local/lib/python3.11/dist-packages (from sounddevice>=0.4.4->tflite_support) (1.17.1)\n",
            "Requirement already satisfied: pycparser in /usr/local/lib/python3.11/dist-packages (from CFFI>=1.0->sounddevice>=0.4.4->tflite_support) (2.22)\n"
          ]
        }
      ]
    },
    {
      "cell_type": "markdown",
      "source": [
        "Importing all neccessary libraries onto the drive:\n",
        "\n",
        "\n",
        "*   Standard Python Libraries\n",
        "*   TensorFlow and Keras\n",
        "*   Libraries for image processing\n",
        "*   Object Detection\n",
        "*   Converting to TFLite & writing metadata\n",
        "\n",
        "\n"
      ],
      "metadata": {
        "id": "sixf6xFnEY0j"
      }
    },
    {
      "cell_type": "code",
      "execution_count": 23,
      "metadata": {
        "id": "1xFsZ27xDopK"
      },
      "outputs": [],
      "source": [
        "#Import: General\n",
        "import numpy as np\n",
        "import pandas as pd\n",
        "import cv2\n",
        "from google.colab.patches import cv2_imshow\n",
        "import pathlib\n",
        "from PIL import Image\n",
        "import matplotlib.pyplot as plt\n",
        "\n",
        "#Import: Image Processing\n",
        "from keras.preprocessing import image\n",
        "from tensorflow.keras.applications import imagenet_utils\n",
        "from tensorflow.keras.preprocessing.image import load_img, img_to_array\n",
        "\n",
        "#Import: ML model\n",
        "import tensorflow as tf\n",
        "import keras\n",
        "\n",
        "#Import: Object Detection\n",
        "import mediapipe as mp\n",
        "from mediapipe.tasks import python\n",
        "from mediapipe.tasks.python import vision\n",
        "\n",
        "#Import: TFLite & Metadata writing\n",
        "from tflite_support.metadata_writers import object_detector\n",
        "from tflite_support.metadata_writers import writer_utils"
      ]
    },
    {
      "cell_type": "markdown",
      "source": [
        "# Dataset Construction"
      ],
      "metadata": {
        "id": "lmZ1IXFIEbkB"
      }
    },
    {
      "cell_type": "markdown",
      "source": [
        "The images to train and test the model are grabbed directly from google drive to construct the correct datasets.\n",
        "\n",
        "For this particular case, an image dataset of images of the night sky are being used. It is assumed that the brighest and only visible star in the night sky is Polaris."
      ],
      "metadata": {
        "id": "vJ4q37B6H3DE"
      }
    },
    {
      "cell_type": "code",
      "source": [
        "#Defining dataset parameters\n",
        "batch_size = 32 #Size of batches for the data\n",
        "img_height = 224 #Height of the images\n",
        "img_width = 224 #Width of the images\n",
        "\n",
        "#Grabbing the images\n",
        "dataset_url = \"/content/drive/MyDrive/Star Tracker/Dataset\" #google drive of the images\n",
        "data_dir = pathlib.Path(dataset_url).with_suffix('') #sets up the directory to be used\n",
        "classnames = ['polaris'] #Array to assign a label to the class\n",
        "\n",
        "#Training dataset\n",
        "train_ds = tf.keras.utils.image_dataset_from_directory(\n",
        "  data_dir, #the directory being converted\n",
        "  validation_split=0.2, #20% used for validation, 80% for actual training\n",
        "  subset=\"training\", #this is the training subset being outputted\n",
        "  seed=132, #seed to randomise data order and seperation\n",
        "  image_size=(img_height, img_width), #converts image sizes to required\n",
        "  batch_size=batch_size, #the batch size of the dataset\n",
        "  class_names=classnames, #assinging labels to the classes\n",
        "  label_mode='int' #controls the datatype of the class labels i.e. [1, 0]\n",
        "  )\n",
        "\n",
        "#Validation dataset\n",
        "val_ds = tf.keras.utils.image_dataset_from_directory( #same as above but for the validation dataset\n",
        "  data_dir,\n",
        "  validation_split=0.2,\n",
        "  subset=\"validation\", #for validation subset\n",
        "  seed=132,\n",
        "  image_size=(img_height, img_width),\n",
        "  batch_size=batch_size,\n",
        "  class_names=classnames,\n",
        "  label_mode='int'\n",
        "  )\n",
        "\n",
        "\n",
        "train_ds = train_ds.map(lambda images, labels:\n",
        "                        (images, labels))\n",
        "val_ds = val_ds.map(lambda images, labels:\n",
        "                    (images, labels))\n"
      ],
      "metadata": {
        "colab": {
          "base_uri": "https://localhost:8080/"
        },
        "id": "yOhUfTt4Ek50",
        "outputId": "a8d195d8-5d26-46b8-e5a2-ad732f3fa9c2"
      },
      "execution_count": 3,
      "outputs": [
        {
          "output_type": "stream",
          "name": "stdout",
          "text": [
            "Found 61 files belonging to 1 classes.\n",
            "Using 49 files for training.\n",
            "Found 61 files belonging to 1 classes.\n",
            "Using 12 files for validation.\n"
          ]
        }
      ]
    },
    {
      "cell_type": "markdown",
      "source": [
        "# Model: Pre-trained\n",
        "\n",
        "We'll be using transfer learning by building a much smaller 'model' onto the MobileNet neural network."
      ],
      "metadata": {
        "id": "zZrcI6PLJMxD"
      }
    },
    {
      "cell_type": "code",
      "source": [
        "# Load the pre-trained model\n",
        "model = keras.applications.MobileNetV3Small(\n",
        "    input_shape=(img_height, img_width, 3),  # Define input shape\n",
        "    alpha=1.0,\n",
        "    minimalistic=False,\n",
        "    include_top=False,\n",
        "    weights=\"imagenet\",\n",
        "    input_tensor=None,\n",
        "    classes=1000,\n",
        "    pooling='avg',  # Add average pooling\n",
        "    dropout_rate=0.2,\n",
        "    classifier_activation=\"softmax\",\n",
        "    include_preprocessing=True,\n",
        "    name=\"MobileNetV3Small\",\n",
        ")\n",
        "\n",
        "num_classes = 1\n",
        "x = model.output\n",
        "x = keras.layers.Dense(num_classes, activation='relu')(x)\n",
        "model = keras.models.Model(inputs=model.input, outputs=x)"
      ],
      "metadata": {
        "id": "vtr3q5njJNE0"
      },
      "execution_count": 6,
      "outputs": []
    },
    {
      "cell_type": "markdown",
      "source": [
        "# Training"
      ],
      "metadata": {
        "id": "oD1CPN8OOS2n"
      }
    },
    {
      "cell_type": "code",
      "source": [
        "#Compiling the model\n",
        "model.compile(\n",
        "  optimizer='adamax', #using adamax optimizer\n",
        "  loss=tf.keras.losses.SparseCategoricalCrossentropy(), #using sparce categorical crossentropy loss function\n",
        "  metrics=[keras.metrics.SparseCategoricalAccuracy() #using accuracy (multi-class model version) and poisson metrics\n",
        "          ]\n",
        ")\n",
        "\n",
        "#Training the model\n",
        "score = model.fit(\n",
        "  train_ds, #training dataset\n",
        "  validation_data=val_ds, #validation dataset\n",
        "  epochs=1, #number of training steps i.e. number of times the model is trained using the training dataset\n",
        ").history #Recording the metrics into the array 'score'"
      ],
      "metadata": {
        "id": "6iFO-bmnOSc5",
        "colab": {
          "base_uri": "https://localhost:8080/"
        },
        "outputId": "40a94140-8a9b-4533-dbdc-36a993bfa825"
      },
      "execution_count": 7,
      "outputs": [
        {
          "output_type": "stream",
          "name": "stdout",
          "text": [
            "\u001b[1m2/2\u001b[0m \u001b[32m━━━━━━━━━━━━━━━━━━━━\u001b[0m\u001b[37m\u001b[0m \u001b[1m104s\u001b[0m 31s/step - loss: 0.0000e+00 - sparse_categorical_accuracy: 1.0000 - val_loss: 0.0000e+00 - val_sparse_categorical_accuracy: 1.0000\n"
          ]
        }
      ]
    },
    {
      "cell_type": "code",
      "source": [
        "#Plotting Loss per epoch\n",
        "plt.figure()\n",
        "plt.ylabel(\"Loss\")\n",
        "plt.xlabel(\"Training Steps\")\n",
        "plt.ylim([0,1])\n",
        "line1 = plt.plot(score[\"loss\"], label='Training')\n",
        "line2 = plt.plot(score[\"val_loss\"], label='Validation')\n",
        "plt.legend()\n",
        "\n",
        "#Plotting Accuracy per epoch\n",
        "plt.figure()\n",
        "plt.ylabel(\"Accuracy\")\n",
        "plt.xlabel(\"Training Steps\")\n",
        "plt.ylim([0,1])\n",
        "plt.plot(score[\"sparse_categorical_accuracy\"], label='Training')\n",
        "plt.plot(score[\"val_sparse_categorical_accuracy\"], label='Validation')\n",
        "plt.legend()\n",
        "\n",
        "print(score)"
      ],
      "metadata": {
        "id": "Gd0bOSQWSKE4"
      },
      "execution_count": null,
      "outputs": []
    },
    {
      "cell_type": "markdown",
      "source": [
        "# Exporting"
      ],
      "metadata": {
        "id": "lK2FAv33kLPN"
      }
    },
    {
      "cell_type": "markdown",
      "source": [
        "Here we will save, convert and export the trained model as a TFLite model file to be used. The exported model will be imported in the object detection section for testing and fine-tuning."
      ],
      "metadata": {
        "id": "PacERh_4kNGP"
      }
    },
    {
      "cell_type": "code",
      "source": [
        "saved_model_dir = \"/content/drive/MyDrive/Star Tracker/Model/Polaris/\"\n",
        "model.export(saved_model_dir + 'Polaris.h5')"
      ],
      "metadata": {
        "colab": {
          "base_uri": "https://localhost:8080/"
        },
        "id": "xxEngDJzofVQ",
        "outputId": "466bc19d-2200-453f-a335-ae025cd4782f"
      },
      "execution_count": 16,
      "outputs": [
        {
          "output_type": "stream",
          "name": "stdout",
          "text": [
            "Saved artifact at '/content/drive/MyDrive/Star Tracker/Model/Polaris/Polaris.h5'. The following endpoints are available:\n",
            "\n",
            "* Endpoint 'serve'\n",
            "  args_0 (POSITIONAL_ONLY): TensorSpec(shape=(None, 224, 224, 3), dtype=tf.float32, name='keras_tensor')\n",
            "Output Type:\n",
            "  TensorSpec(shape=(None, 1), dtype=tf.float32, name=None)\n",
            "Captures:\n",
            "  134982157216528: TensorSpec(shape=(), dtype=tf.resource, name=None)\n",
            "  134982157215568: TensorSpec(shape=(), dtype=tf.resource, name=None)\n",
            "  134982157215952: TensorSpec(shape=(), dtype=tf.resource, name=None)\n",
            "  134982157217488: TensorSpec(shape=(), dtype=tf.resource, name=None)\n",
            "  134982157217104: TensorSpec(shape=(), dtype=tf.resource, name=None)\n",
            "  134982157216720: TensorSpec(shape=(), dtype=tf.resource, name=None)\n",
            "  134982157216912: TensorSpec(shape=(), dtype=tf.resource, name=None)\n",
            "  134982154510096: TensorSpec(shape=(), dtype=tf.resource, name=None)\n",
            "  134982157217296: TensorSpec(shape=(), dtype=tf.resource, name=None)\n",
            "  134982157216144: TensorSpec(shape=(), dtype=tf.resource, name=None)\n",
            "  134982154512400: TensorSpec(shape=(), dtype=tf.resource, name=None)\n",
            "  134982154513936: TensorSpec(shape=(), dtype=tf.resource, name=None)\n",
            "  134982154513360: TensorSpec(shape=(), dtype=tf.resource, name=None)\n",
            "  134982154514704: TensorSpec(shape=(), dtype=tf.resource, name=None)\n",
            "  134982154513168: TensorSpec(shape=(), dtype=tf.resource, name=None)\n",
            "  134982154515280: TensorSpec(shape=(), dtype=tf.resource, name=None)\n",
            "  134982154514896: TensorSpec(shape=(), dtype=tf.resource, name=None)\n",
            "  134982154515472: TensorSpec(shape=(), dtype=tf.resource, name=None)\n",
            "  134982154515856: TensorSpec(shape=(), dtype=tf.resource, name=None)\n",
            "  134982154517200: TensorSpec(shape=(), dtype=tf.resource, name=None)\n",
            "  134982154517584: TensorSpec(shape=(), dtype=tf.resource, name=None)\n",
            "  134982154518352: TensorSpec(shape=(), dtype=tf.resource, name=None)\n",
            "  134982154517776: TensorSpec(shape=(), dtype=tf.resource, name=None)\n",
            "  134982154514128: TensorSpec(shape=(), dtype=tf.resource, name=None)\n",
            "  134982154515664: TensorSpec(shape=(), dtype=tf.resource, name=None)\n",
            "  134982126306704: TensorSpec(shape=(), dtype=tf.resource, name=None)\n",
            "  134982126305744: TensorSpec(shape=(), dtype=tf.resource, name=None)\n",
            "  134982126306512: TensorSpec(shape=(), dtype=tf.resource, name=None)\n",
            "  134982126305552: TensorSpec(shape=(), dtype=tf.resource, name=None)\n",
            "  134982126308240: TensorSpec(shape=(), dtype=tf.resource, name=None)\n",
            "  134982126308624: TensorSpec(shape=(), dtype=tf.resource, name=None)\n",
            "  134982126309008: TensorSpec(shape=(), dtype=tf.resource, name=None)\n",
            "  134982126308816: TensorSpec(shape=(), dtype=tf.resource, name=None)\n",
            "  134982126305936: TensorSpec(shape=(), dtype=tf.resource, name=None)\n",
            "  134982126307088: TensorSpec(shape=(), dtype=tf.resource, name=None)\n",
            "  134982126310736: TensorSpec(shape=(), dtype=tf.resource, name=None)\n",
            "  134982126311120: TensorSpec(shape=(), dtype=tf.resource, name=None)\n",
            "  134982126310928: TensorSpec(shape=(), dtype=tf.resource, name=None)\n",
            "  134982126307472: TensorSpec(shape=(), dtype=tf.resource, name=None)\n",
            "  134982126309776: TensorSpec(shape=(), dtype=tf.resource, name=None)\n",
            "  134982126312848: TensorSpec(shape=(), dtype=tf.resource, name=None)\n",
            "  134982126313232: TensorSpec(shape=(), dtype=tf.resource, name=None)\n",
            "  134982126313040: TensorSpec(shape=(), dtype=tf.resource, name=None)\n",
            "  134982126310160: TensorSpec(shape=(), dtype=tf.resource, name=None)\n",
            "  134982126314384: TensorSpec(shape=(), dtype=tf.resource, name=None)\n",
            "  134982126314768: TensorSpec(shape=(), dtype=tf.resource, name=None)\n",
            "  134982126315152: TensorSpec(shape=(), dtype=tf.resource, name=None)\n",
            "  134982126314960: TensorSpec(shape=(), dtype=tf.resource, name=None)\n",
            "  134982126311888: TensorSpec(shape=(), dtype=tf.resource, name=None)\n",
            "  134982126316304: TensorSpec(shape=(), dtype=tf.resource, name=None)\n",
            "  134982126316688: TensorSpec(shape=(), dtype=tf.resource, name=None)\n",
            "  134982126317072: TensorSpec(shape=(), dtype=tf.resource, name=None)\n",
            "  134982126316880: TensorSpec(shape=(), dtype=tf.resource, name=None)\n",
            "  134982126312464: TensorSpec(shape=(), dtype=tf.resource, name=None)\n",
            "  134982126318224: TensorSpec(shape=(), dtype=tf.resource, name=None)\n",
            "  134982126318608: TensorSpec(shape=(), dtype=tf.resource, name=None)\n",
            "  134982126318992: TensorSpec(shape=(), dtype=tf.resource, name=None)\n",
            "  134982126318800: TensorSpec(shape=(), dtype=tf.resource, name=None)\n",
            "  134982126314000: TensorSpec(shape=(), dtype=tf.resource, name=None)\n",
            "  134982126320144: TensorSpec(shape=(), dtype=tf.resource, name=None)\n",
            "  134982126320720: TensorSpec(shape=(), dtype=tf.resource, name=None)\n",
            "  134982126319760: TensorSpec(shape=(), dtype=tf.resource, name=None)\n",
            "  134982126321296: TensorSpec(shape=(), dtype=tf.resource, name=None)\n",
            "  134982126321488: TensorSpec(shape=(), dtype=tf.resource, name=None)\n",
            "  134982126797264: TensorSpec(shape=(), dtype=tf.resource, name=None)\n",
            "  134982126797840: TensorSpec(shape=(), dtype=tf.resource, name=None)\n",
            "  134982126310352: TensorSpec(shape=(), dtype=tf.resource, name=None)\n",
            "  134982126317840: TensorSpec(shape=(), dtype=tf.resource, name=None)\n",
            "  134982126798800: TensorSpec(shape=(), dtype=tf.resource, name=None)\n",
            "  134982126799184: TensorSpec(shape=(), dtype=tf.resource, name=None)\n",
            "  134982126799568: TensorSpec(shape=(), dtype=tf.resource, name=None)\n",
            "  134982126799376: TensorSpec(shape=(), dtype=tf.resource, name=None)\n",
            "  134982126798032: TensorSpec(shape=(), dtype=tf.resource, name=None)\n",
            "  134982126800720: TensorSpec(shape=(), dtype=tf.resource, name=None)\n",
            "  134982126801104: TensorSpec(shape=(), dtype=tf.resource, name=None)\n",
            "  134982126801488: TensorSpec(shape=(), dtype=tf.resource, name=None)\n",
            "  134982126801296: TensorSpec(shape=(), dtype=tf.resource, name=None)\n",
            "  134982126797456: TensorSpec(shape=(), dtype=tf.resource, name=None)\n",
            "  134982126802640: TensorSpec(shape=(), dtype=tf.resource, name=None)\n",
            "  134982126803216: TensorSpec(shape=(), dtype=tf.resource, name=None)\n",
            "  134982126802256: TensorSpec(shape=(), dtype=tf.resource, name=None)\n",
            "  134982126803984: TensorSpec(shape=(), dtype=tf.resource, name=None)\n",
            "  134982126803408: TensorSpec(shape=(), dtype=tf.resource, name=None)\n",
            "  134982126804560: TensorSpec(shape=(), dtype=tf.resource, name=None)\n",
            "  134982126804944: TensorSpec(shape=(), dtype=tf.resource, name=None)\n",
            "  134982126804752: TensorSpec(shape=(), dtype=tf.resource, name=None)\n",
            "  134982126800336: TensorSpec(shape=(), dtype=tf.resource, name=None)\n",
            "  134982126806096: TensorSpec(shape=(), dtype=tf.resource, name=None)\n",
            "  134982126806480: TensorSpec(shape=(), dtype=tf.resource, name=None)\n",
            "  134982126806864: TensorSpec(shape=(), dtype=tf.resource, name=None)\n",
            "  134982126806672: TensorSpec(shape=(), dtype=tf.resource, name=None)\n",
            "  134982126797648: TensorSpec(shape=(), dtype=tf.resource, name=None)\n",
            "  134982126808016: TensorSpec(shape=(), dtype=tf.resource, name=None)\n",
            "  134982126808400: TensorSpec(shape=(), dtype=tf.resource, name=None)\n",
            "  134982126808784: TensorSpec(shape=(), dtype=tf.resource, name=None)\n",
            "  134982126808592: TensorSpec(shape=(), dtype=tf.resource, name=None)\n",
            "  134982126804176: TensorSpec(shape=(), dtype=tf.resource, name=None)\n",
            "  134982126809936: TensorSpec(shape=(), dtype=tf.resource, name=None)\n",
            "  134982126810512: TensorSpec(shape=(), dtype=tf.resource, name=None)\n",
            "  134982126809552: TensorSpec(shape=(), dtype=tf.resource, name=None)\n",
            "  134982126811280: TensorSpec(shape=(), dtype=tf.resource, name=None)\n",
            "  134982126810704: TensorSpec(shape=(), dtype=tf.resource, name=None)\n",
            "  134982126811856: TensorSpec(shape=(), dtype=tf.resource, name=None)\n",
            "  134982126812240: TensorSpec(shape=(), dtype=tf.resource, name=None)\n",
            "  134982126812048: TensorSpec(shape=(), dtype=tf.resource, name=None)\n",
            "  134982126807632: TensorSpec(shape=(), dtype=tf.resource, name=None)\n",
            "  134982126811088: TensorSpec(shape=(), dtype=tf.resource, name=None)\n",
            "  134982103466640: TensorSpec(shape=(), dtype=tf.resource, name=None)\n",
            "  134982103467024: TensorSpec(shape=(), dtype=tf.resource, name=None)\n",
            "  134982126813008: TensorSpec(shape=(), dtype=tf.resource, name=None)\n",
            "  134982126798416: TensorSpec(shape=(), dtype=tf.resource, name=None)\n",
            "  134982103468176: TensorSpec(shape=(), dtype=tf.resource, name=None)\n",
            "  134982103468560: TensorSpec(shape=(), dtype=tf.resource, name=None)\n",
            "  134982103468944: TensorSpec(shape=(), dtype=tf.resource, name=None)\n",
            "  134982103468752: TensorSpec(shape=(), dtype=tf.resource, name=None)\n",
            "  134982103466064: TensorSpec(shape=(), dtype=tf.resource, name=None)\n",
            "  134982103470096: TensorSpec(shape=(), dtype=tf.resource, name=None)\n",
            "  134982103470672: TensorSpec(shape=(), dtype=tf.resource, name=None)\n",
            "  134982103469712: TensorSpec(shape=(), dtype=tf.resource, name=None)\n",
            "  134982103471440: TensorSpec(shape=(), dtype=tf.resource, name=None)\n",
            "  134982103470864: TensorSpec(shape=(), dtype=tf.resource, name=None)\n",
            "  134982103472016: TensorSpec(shape=(), dtype=tf.resource, name=None)\n",
            "  134982103472400: TensorSpec(shape=(), dtype=tf.resource, name=None)\n",
            "  134982103472208: TensorSpec(shape=(), dtype=tf.resource, name=None)\n",
            "  134982103467792: TensorSpec(shape=(), dtype=tf.resource, name=None)\n",
            "  134982103473552: TensorSpec(shape=(), dtype=tf.resource, name=None)\n",
            "  134982103473936: TensorSpec(shape=(), dtype=tf.resource, name=None)\n",
            "  134982103474320: TensorSpec(shape=(), dtype=tf.resource, name=None)\n",
            "  134982103474128: TensorSpec(shape=(), dtype=tf.resource, name=None)\n",
            "  134982103466256: TensorSpec(shape=(), dtype=tf.resource, name=None)\n",
            "  134982103475472: TensorSpec(shape=(), dtype=tf.resource, name=None)\n",
            "  134982103475856: TensorSpec(shape=(), dtype=tf.resource, name=None)\n",
            "  134982103476240: TensorSpec(shape=(), dtype=tf.resource, name=None)\n",
            "  134982103476048: TensorSpec(shape=(), dtype=tf.resource, name=None)\n",
            "  134982103471632: TensorSpec(shape=(), dtype=tf.resource, name=None)\n",
            "  134982103477392: TensorSpec(shape=(), dtype=tf.resource, name=None)\n",
            "  134982103477968: TensorSpec(shape=(), dtype=tf.resource, name=None)\n",
            "  134982103477008: TensorSpec(shape=(), dtype=tf.resource, name=None)\n",
            "  134982103478736: TensorSpec(shape=(), dtype=tf.resource, name=None)\n",
            "  134982103478160: TensorSpec(shape=(), dtype=tf.resource, name=None)\n",
            "  134982103479312: TensorSpec(shape=(), dtype=tf.resource, name=None)\n",
            "  134982103479696: TensorSpec(shape=(), dtype=tf.resource, name=None)\n",
            "  134982103479504: TensorSpec(shape=(), dtype=tf.resource, name=None)\n",
            "  134982103475088: TensorSpec(shape=(), dtype=tf.resource, name=None)\n",
            "  134982103480848: TensorSpec(shape=(), dtype=tf.resource, name=None)\n",
            "  134982103481232: TensorSpec(shape=(), dtype=tf.resource, name=None)\n",
            "  134982103482000: TensorSpec(shape=(), dtype=tf.resource, name=None)\n",
            "  134982103481424: TensorSpec(shape=(), dtype=tf.resource, name=None)\n",
            "  134982103466448: TensorSpec(shape=(), dtype=tf.resource, name=None)\n",
            "  134982103480080: TensorSpec(shape=(), dtype=tf.resource, name=None)\n",
            "  134982103990352: TensorSpec(shape=(), dtype=tf.resource, name=None)\n",
            "  134982103991504: TensorSpec(shape=(), dtype=tf.resource, name=None)\n",
            "  134982103480464: TensorSpec(shape=(), dtype=tf.resource, name=None)\n",
            "  134982103991312: TensorSpec(shape=(), dtype=tf.resource, name=None)\n",
            "  134982103992656: TensorSpec(shape=(), dtype=tf.resource, name=None)\n",
            "  134982103993232: TensorSpec(shape=(), dtype=tf.resource, name=None)\n",
            "  134982103992272: TensorSpec(shape=(), dtype=tf.resource, name=None)\n",
            "  134982103994000: TensorSpec(shape=(), dtype=tf.resource, name=None)\n",
            "  134982103993424: TensorSpec(shape=(), dtype=tf.resource, name=None)\n",
            "  134982103994576: TensorSpec(shape=(), dtype=tf.resource, name=None)\n",
            "  134982103994960: TensorSpec(shape=(), dtype=tf.resource, name=None)\n",
            "  134982103994768: TensorSpec(shape=(), dtype=tf.resource, name=None)\n",
            "  134982103990544: TensorSpec(shape=(), dtype=tf.resource, name=None)\n",
            "  134982103996112: TensorSpec(shape=(), dtype=tf.resource, name=None)\n",
            "  134982103996496: TensorSpec(shape=(), dtype=tf.resource, name=None)\n",
            "  134982103996880: TensorSpec(shape=(), dtype=tf.resource, name=None)\n",
            "  134982103996688: TensorSpec(shape=(), dtype=tf.resource, name=None)\n",
            "  134982103990736: TensorSpec(shape=(), dtype=tf.resource, name=None)\n",
            "  134982103998032: TensorSpec(shape=(), dtype=tf.resource, name=None)\n",
            "  134982103998416: TensorSpec(shape=(), dtype=tf.resource, name=None)\n",
            "  134982103998800: TensorSpec(shape=(), dtype=tf.resource, name=None)\n",
            "  134982103998608: TensorSpec(shape=(), dtype=tf.resource, name=None)\n",
            "  134982103994192: TensorSpec(shape=(), dtype=tf.resource, name=None)\n",
            "  134982103999952: TensorSpec(shape=(), dtype=tf.resource, name=None)\n",
            "  134982104000528: TensorSpec(shape=(), dtype=tf.resource, name=None)\n",
            "  134982103999568: TensorSpec(shape=(), dtype=tf.resource, name=None)\n",
            "  134982104001296: TensorSpec(shape=(), dtype=tf.resource, name=None)\n",
            "  134982104000720: TensorSpec(shape=(), dtype=tf.resource, name=None)\n",
            "  134982104001872: TensorSpec(shape=(), dtype=tf.resource, name=None)\n",
            "  134982104002256: TensorSpec(shape=(), dtype=tf.resource, name=None)\n",
            "  134982104002064: TensorSpec(shape=(), dtype=tf.resource, name=None)\n",
            "  134982103997648: TensorSpec(shape=(), dtype=tf.resource, name=None)\n",
            "  134982104003408: TensorSpec(shape=(), dtype=tf.resource, name=None)\n",
            "  134982104003792: TensorSpec(shape=(), dtype=tf.resource, name=None)\n",
            "  134982104004176: TensorSpec(shape=(), dtype=tf.resource, name=None)\n",
            "  134982104003984: TensorSpec(shape=(), dtype=tf.resource, name=None)\n",
            "  134982103991120: TensorSpec(shape=(), dtype=tf.resource, name=None)\n",
            "  134982104005328: TensorSpec(shape=(), dtype=tf.resource, name=None)\n",
            "  134982104005712: TensorSpec(shape=(), dtype=tf.resource, name=None)\n",
            "  134982104006480: TensorSpec(shape=(), dtype=tf.resource, name=None)\n",
            "  134982104005904: TensorSpec(shape=(), dtype=tf.resource, name=None)\n",
            "  134982104001488: TensorSpec(shape=(), dtype=tf.resource, name=None)\n",
            "  134982103995728: TensorSpec(shape=(), dtype=tf.resource, name=None)\n",
            "  134982104003024: TensorSpec(shape=(), dtype=tf.resource, name=None)\n",
            "  134982102434448: TensorSpec(shape=(), dtype=tf.resource, name=None)\n",
            "  134982102435792: TensorSpec(shape=(), dtype=tf.resource, name=None)\n",
            "  134982102434832: TensorSpec(shape=(), dtype=tf.resource, name=None)\n",
            "  134982102436752: TensorSpec(shape=(), dtype=tf.resource, name=None)\n",
            "  134982102437136: TensorSpec(shape=(), dtype=tf.resource, name=None)\n",
            "  134982102436944: TensorSpec(shape=(), dtype=tf.resource, name=None)\n",
            "  134982102435216: TensorSpec(shape=(), dtype=tf.resource, name=None)\n",
            "  134982102438288: TensorSpec(shape=(), dtype=tf.resource, name=None)\n",
            "  134982102438672: TensorSpec(shape=(), dtype=tf.resource, name=None)\n",
            "  134982102439056: TensorSpec(shape=(), dtype=tf.resource, name=None)\n",
            "  134982102438864: TensorSpec(shape=(), dtype=tf.resource, name=None)\n",
            "  134982102436176: TensorSpec(shape=(), dtype=tf.resource, name=None)\n",
            "  134982102437520: TensorSpec(shape=(), dtype=tf.resource, name=None)\n",
            "  134982102441360: TensorSpec(shape=(), dtype=tf.resource, name=None)\n"
          ]
        }
      ]
    },
    {
      "cell_type": "code",
      "source": [
        "converter = tf.lite.TFLiteConverter.from_keras_model(model)\n",
        "tflite_model = converter.convert()\n",
        "\n",
        "with open('model.tflite', 'wb') as f:\n",
        "  f.write(tflite_model)"
      ],
      "metadata": {
        "colab": {
          "base_uri": "https://localhost:8080/"
        },
        "id": "kbNtlRcekM0b",
        "outputId": "52e3770d-eb34-4a64-bf96-29d4dff5265d"
      },
      "execution_count": 8,
      "outputs": [
        {
          "output_type": "stream",
          "name": "stdout",
          "text": [
            "Saved artifact at '/tmp/tmpqtzew144'. The following endpoints are available:\n",
            "\n",
            "* Endpoint 'serve'\n",
            "  args_0 (POSITIONAL_ONLY): TensorSpec(shape=(None, 224, 224, 3), dtype=tf.float32, name='keras_tensor')\n",
            "Output Type:\n",
            "  TensorSpec(shape=(None, 1), dtype=tf.float32, name=None)\n",
            "Captures:\n",
            "  134982157216528: TensorSpec(shape=(), dtype=tf.resource, name=None)\n",
            "  134982157215568: TensorSpec(shape=(), dtype=tf.resource, name=None)\n",
            "  134982157215952: TensorSpec(shape=(), dtype=tf.resource, name=None)\n",
            "  134982157217488: TensorSpec(shape=(), dtype=tf.resource, name=None)\n",
            "  134982157217104: TensorSpec(shape=(), dtype=tf.resource, name=None)\n",
            "  134982157216720: TensorSpec(shape=(), dtype=tf.resource, name=None)\n",
            "  134982157216912: TensorSpec(shape=(), dtype=tf.resource, name=None)\n",
            "  134982154510096: TensorSpec(shape=(), dtype=tf.resource, name=None)\n",
            "  134982157217296: TensorSpec(shape=(), dtype=tf.resource, name=None)\n",
            "  134982157216144: TensorSpec(shape=(), dtype=tf.resource, name=None)\n",
            "  134982154512400: TensorSpec(shape=(), dtype=tf.resource, name=None)\n",
            "  134982154513936: TensorSpec(shape=(), dtype=tf.resource, name=None)\n",
            "  134982154513360: TensorSpec(shape=(), dtype=tf.resource, name=None)\n",
            "  134982154514704: TensorSpec(shape=(), dtype=tf.resource, name=None)\n",
            "  134982154513168: TensorSpec(shape=(), dtype=tf.resource, name=None)\n",
            "  134982154515280: TensorSpec(shape=(), dtype=tf.resource, name=None)\n",
            "  134982154514896: TensorSpec(shape=(), dtype=tf.resource, name=None)\n",
            "  134982154515472: TensorSpec(shape=(), dtype=tf.resource, name=None)\n",
            "  134982154515856: TensorSpec(shape=(), dtype=tf.resource, name=None)\n",
            "  134982154517200: TensorSpec(shape=(), dtype=tf.resource, name=None)\n",
            "  134982154517584: TensorSpec(shape=(), dtype=tf.resource, name=None)\n",
            "  134982154518352: TensorSpec(shape=(), dtype=tf.resource, name=None)\n",
            "  134982154517776: TensorSpec(shape=(), dtype=tf.resource, name=None)\n",
            "  134982154514128: TensorSpec(shape=(), dtype=tf.resource, name=None)\n",
            "  134982154515664: TensorSpec(shape=(), dtype=tf.resource, name=None)\n",
            "  134982126306704: TensorSpec(shape=(), dtype=tf.resource, name=None)\n",
            "  134982126305744: TensorSpec(shape=(), dtype=tf.resource, name=None)\n",
            "  134982126306512: TensorSpec(shape=(), dtype=tf.resource, name=None)\n",
            "  134982126305552: TensorSpec(shape=(), dtype=tf.resource, name=None)\n",
            "  134982126308240: TensorSpec(shape=(), dtype=tf.resource, name=None)\n",
            "  134982126308624: TensorSpec(shape=(), dtype=tf.resource, name=None)\n",
            "  134982126309008: TensorSpec(shape=(), dtype=tf.resource, name=None)\n",
            "  134982126308816: TensorSpec(shape=(), dtype=tf.resource, name=None)\n",
            "  134982126305936: TensorSpec(shape=(), dtype=tf.resource, name=None)\n",
            "  134982126307088: TensorSpec(shape=(), dtype=tf.resource, name=None)\n",
            "  134982126310736: TensorSpec(shape=(), dtype=tf.resource, name=None)\n",
            "  134982126311120: TensorSpec(shape=(), dtype=tf.resource, name=None)\n",
            "  134982126310928: TensorSpec(shape=(), dtype=tf.resource, name=None)\n",
            "  134982126307472: TensorSpec(shape=(), dtype=tf.resource, name=None)\n",
            "  134982126309776: TensorSpec(shape=(), dtype=tf.resource, name=None)\n",
            "  134982126312848: TensorSpec(shape=(), dtype=tf.resource, name=None)\n",
            "  134982126313232: TensorSpec(shape=(), dtype=tf.resource, name=None)\n",
            "  134982126313040: TensorSpec(shape=(), dtype=tf.resource, name=None)\n",
            "  134982126310160: TensorSpec(shape=(), dtype=tf.resource, name=None)\n",
            "  134982126314384: TensorSpec(shape=(), dtype=tf.resource, name=None)\n",
            "  134982126314768: TensorSpec(shape=(), dtype=tf.resource, name=None)\n",
            "  134982126315152: TensorSpec(shape=(), dtype=tf.resource, name=None)\n",
            "  134982126314960: TensorSpec(shape=(), dtype=tf.resource, name=None)\n",
            "  134982126311888: TensorSpec(shape=(), dtype=tf.resource, name=None)\n",
            "  134982126316304: TensorSpec(shape=(), dtype=tf.resource, name=None)\n",
            "  134982126316688: TensorSpec(shape=(), dtype=tf.resource, name=None)\n",
            "  134982126317072: TensorSpec(shape=(), dtype=tf.resource, name=None)\n",
            "  134982126316880: TensorSpec(shape=(), dtype=tf.resource, name=None)\n",
            "  134982126312464: TensorSpec(shape=(), dtype=tf.resource, name=None)\n",
            "  134982126318224: TensorSpec(shape=(), dtype=tf.resource, name=None)\n",
            "  134982126318608: TensorSpec(shape=(), dtype=tf.resource, name=None)\n",
            "  134982126318992: TensorSpec(shape=(), dtype=tf.resource, name=None)\n",
            "  134982126318800: TensorSpec(shape=(), dtype=tf.resource, name=None)\n",
            "  134982126314000: TensorSpec(shape=(), dtype=tf.resource, name=None)\n",
            "  134982126320144: TensorSpec(shape=(), dtype=tf.resource, name=None)\n",
            "  134982126320720: TensorSpec(shape=(), dtype=tf.resource, name=None)\n",
            "  134982126319760: TensorSpec(shape=(), dtype=tf.resource, name=None)\n",
            "  134982126321296: TensorSpec(shape=(), dtype=tf.resource, name=None)\n",
            "  134982126321488: TensorSpec(shape=(), dtype=tf.resource, name=None)\n",
            "  134982126797264: TensorSpec(shape=(), dtype=tf.resource, name=None)\n",
            "  134982126797840: TensorSpec(shape=(), dtype=tf.resource, name=None)\n",
            "  134982126310352: TensorSpec(shape=(), dtype=tf.resource, name=None)\n",
            "  134982126317840: TensorSpec(shape=(), dtype=tf.resource, name=None)\n",
            "  134982126798800: TensorSpec(shape=(), dtype=tf.resource, name=None)\n",
            "  134982126799184: TensorSpec(shape=(), dtype=tf.resource, name=None)\n",
            "  134982126799568: TensorSpec(shape=(), dtype=tf.resource, name=None)\n",
            "  134982126799376: TensorSpec(shape=(), dtype=tf.resource, name=None)\n",
            "  134982126798032: TensorSpec(shape=(), dtype=tf.resource, name=None)\n",
            "  134982126800720: TensorSpec(shape=(), dtype=tf.resource, name=None)\n",
            "  134982126801104: TensorSpec(shape=(), dtype=tf.resource, name=None)\n",
            "  134982126801488: TensorSpec(shape=(), dtype=tf.resource, name=None)\n",
            "  134982126801296: TensorSpec(shape=(), dtype=tf.resource, name=None)\n",
            "  134982126797456: TensorSpec(shape=(), dtype=tf.resource, name=None)\n",
            "  134982126802640: TensorSpec(shape=(), dtype=tf.resource, name=None)\n",
            "  134982126803216: TensorSpec(shape=(), dtype=tf.resource, name=None)\n",
            "  134982126802256: TensorSpec(shape=(), dtype=tf.resource, name=None)\n",
            "  134982126803984: TensorSpec(shape=(), dtype=tf.resource, name=None)\n",
            "  134982126803408: TensorSpec(shape=(), dtype=tf.resource, name=None)\n",
            "  134982126804560: TensorSpec(shape=(), dtype=tf.resource, name=None)\n",
            "  134982126804944: TensorSpec(shape=(), dtype=tf.resource, name=None)\n",
            "  134982126804752: TensorSpec(shape=(), dtype=tf.resource, name=None)\n",
            "  134982126800336: TensorSpec(shape=(), dtype=tf.resource, name=None)\n",
            "  134982126806096: TensorSpec(shape=(), dtype=tf.resource, name=None)\n",
            "  134982126806480: TensorSpec(shape=(), dtype=tf.resource, name=None)\n",
            "  134982126806864: TensorSpec(shape=(), dtype=tf.resource, name=None)\n",
            "  134982126806672: TensorSpec(shape=(), dtype=tf.resource, name=None)\n",
            "  134982126797648: TensorSpec(shape=(), dtype=tf.resource, name=None)\n",
            "  134982126808016: TensorSpec(shape=(), dtype=tf.resource, name=None)\n",
            "  134982126808400: TensorSpec(shape=(), dtype=tf.resource, name=None)\n",
            "  134982126808784: TensorSpec(shape=(), dtype=tf.resource, name=None)\n",
            "  134982126808592: TensorSpec(shape=(), dtype=tf.resource, name=None)\n",
            "  134982126804176: TensorSpec(shape=(), dtype=tf.resource, name=None)\n",
            "  134982126809936: TensorSpec(shape=(), dtype=tf.resource, name=None)\n",
            "  134982126810512: TensorSpec(shape=(), dtype=tf.resource, name=None)\n",
            "  134982126809552: TensorSpec(shape=(), dtype=tf.resource, name=None)\n",
            "  134982126811280: TensorSpec(shape=(), dtype=tf.resource, name=None)\n",
            "  134982126810704: TensorSpec(shape=(), dtype=tf.resource, name=None)\n",
            "  134982126811856: TensorSpec(shape=(), dtype=tf.resource, name=None)\n",
            "  134982126812240: TensorSpec(shape=(), dtype=tf.resource, name=None)\n",
            "  134982126812048: TensorSpec(shape=(), dtype=tf.resource, name=None)\n",
            "  134982126807632: TensorSpec(shape=(), dtype=tf.resource, name=None)\n",
            "  134982126811088: TensorSpec(shape=(), dtype=tf.resource, name=None)\n",
            "  134982103466640: TensorSpec(shape=(), dtype=tf.resource, name=None)\n",
            "  134982103467024: TensorSpec(shape=(), dtype=tf.resource, name=None)\n",
            "  134982126813008: TensorSpec(shape=(), dtype=tf.resource, name=None)\n",
            "  134982126798416: TensorSpec(shape=(), dtype=tf.resource, name=None)\n",
            "  134982103468176: TensorSpec(shape=(), dtype=tf.resource, name=None)\n",
            "  134982103468560: TensorSpec(shape=(), dtype=tf.resource, name=None)\n",
            "  134982103468944: TensorSpec(shape=(), dtype=tf.resource, name=None)\n",
            "  134982103468752: TensorSpec(shape=(), dtype=tf.resource, name=None)\n",
            "  134982103466064: TensorSpec(shape=(), dtype=tf.resource, name=None)\n",
            "  134982103470096: TensorSpec(shape=(), dtype=tf.resource, name=None)\n",
            "  134982103470672: TensorSpec(shape=(), dtype=tf.resource, name=None)\n",
            "  134982103469712: TensorSpec(shape=(), dtype=tf.resource, name=None)\n",
            "  134982103471440: TensorSpec(shape=(), dtype=tf.resource, name=None)\n",
            "  134982103470864: TensorSpec(shape=(), dtype=tf.resource, name=None)\n",
            "  134982103472016: TensorSpec(shape=(), dtype=tf.resource, name=None)\n",
            "  134982103472400: TensorSpec(shape=(), dtype=tf.resource, name=None)\n",
            "  134982103472208: TensorSpec(shape=(), dtype=tf.resource, name=None)\n",
            "  134982103467792: TensorSpec(shape=(), dtype=tf.resource, name=None)\n",
            "  134982103473552: TensorSpec(shape=(), dtype=tf.resource, name=None)\n",
            "  134982103473936: TensorSpec(shape=(), dtype=tf.resource, name=None)\n",
            "  134982103474320: TensorSpec(shape=(), dtype=tf.resource, name=None)\n",
            "  134982103474128: TensorSpec(shape=(), dtype=tf.resource, name=None)\n",
            "  134982103466256: TensorSpec(shape=(), dtype=tf.resource, name=None)\n",
            "  134982103475472: TensorSpec(shape=(), dtype=tf.resource, name=None)\n",
            "  134982103475856: TensorSpec(shape=(), dtype=tf.resource, name=None)\n",
            "  134982103476240: TensorSpec(shape=(), dtype=tf.resource, name=None)\n",
            "  134982103476048: TensorSpec(shape=(), dtype=tf.resource, name=None)\n",
            "  134982103471632: TensorSpec(shape=(), dtype=tf.resource, name=None)\n",
            "  134982103477392: TensorSpec(shape=(), dtype=tf.resource, name=None)\n",
            "  134982103477968: TensorSpec(shape=(), dtype=tf.resource, name=None)\n",
            "  134982103477008: TensorSpec(shape=(), dtype=tf.resource, name=None)\n",
            "  134982103478736: TensorSpec(shape=(), dtype=tf.resource, name=None)\n",
            "  134982103478160: TensorSpec(shape=(), dtype=tf.resource, name=None)\n",
            "  134982103479312: TensorSpec(shape=(), dtype=tf.resource, name=None)\n",
            "  134982103479696: TensorSpec(shape=(), dtype=tf.resource, name=None)\n",
            "  134982103479504: TensorSpec(shape=(), dtype=tf.resource, name=None)\n",
            "  134982103475088: TensorSpec(shape=(), dtype=tf.resource, name=None)\n",
            "  134982103480848: TensorSpec(shape=(), dtype=tf.resource, name=None)\n",
            "  134982103481232: TensorSpec(shape=(), dtype=tf.resource, name=None)\n",
            "  134982103482000: TensorSpec(shape=(), dtype=tf.resource, name=None)\n",
            "  134982103481424: TensorSpec(shape=(), dtype=tf.resource, name=None)\n",
            "  134982103466448: TensorSpec(shape=(), dtype=tf.resource, name=None)\n",
            "  134982103480080: TensorSpec(shape=(), dtype=tf.resource, name=None)\n",
            "  134982103990352: TensorSpec(shape=(), dtype=tf.resource, name=None)\n",
            "  134982103991504: TensorSpec(shape=(), dtype=tf.resource, name=None)\n",
            "  134982103480464: TensorSpec(shape=(), dtype=tf.resource, name=None)\n",
            "  134982103991312: TensorSpec(shape=(), dtype=tf.resource, name=None)\n",
            "  134982103992656: TensorSpec(shape=(), dtype=tf.resource, name=None)\n",
            "  134982103993232: TensorSpec(shape=(), dtype=tf.resource, name=None)\n",
            "  134982103992272: TensorSpec(shape=(), dtype=tf.resource, name=None)\n",
            "  134982103994000: TensorSpec(shape=(), dtype=tf.resource, name=None)\n",
            "  134982103993424: TensorSpec(shape=(), dtype=tf.resource, name=None)\n",
            "  134982103994576: TensorSpec(shape=(), dtype=tf.resource, name=None)\n",
            "  134982103994960: TensorSpec(shape=(), dtype=tf.resource, name=None)\n",
            "  134982103994768: TensorSpec(shape=(), dtype=tf.resource, name=None)\n",
            "  134982103990544: TensorSpec(shape=(), dtype=tf.resource, name=None)\n",
            "  134982103996112: TensorSpec(shape=(), dtype=tf.resource, name=None)\n",
            "  134982103996496: TensorSpec(shape=(), dtype=tf.resource, name=None)\n",
            "  134982103996880: TensorSpec(shape=(), dtype=tf.resource, name=None)\n",
            "  134982103996688: TensorSpec(shape=(), dtype=tf.resource, name=None)\n",
            "  134982103990736: TensorSpec(shape=(), dtype=tf.resource, name=None)\n",
            "  134982103998032: TensorSpec(shape=(), dtype=tf.resource, name=None)\n",
            "  134982103998416: TensorSpec(shape=(), dtype=tf.resource, name=None)\n",
            "  134982103998800: TensorSpec(shape=(), dtype=tf.resource, name=None)\n",
            "  134982103998608: TensorSpec(shape=(), dtype=tf.resource, name=None)\n",
            "  134982103994192: TensorSpec(shape=(), dtype=tf.resource, name=None)\n",
            "  134982103999952: TensorSpec(shape=(), dtype=tf.resource, name=None)\n",
            "  134982104000528: TensorSpec(shape=(), dtype=tf.resource, name=None)\n",
            "  134982103999568: TensorSpec(shape=(), dtype=tf.resource, name=None)\n",
            "  134982104001296: TensorSpec(shape=(), dtype=tf.resource, name=None)\n",
            "  134982104000720: TensorSpec(shape=(), dtype=tf.resource, name=None)\n",
            "  134982104001872: TensorSpec(shape=(), dtype=tf.resource, name=None)\n",
            "  134982104002256: TensorSpec(shape=(), dtype=tf.resource, name=None)\n",
            "  134982104002064: TensorSpec(shape=(), dtype=tf.resource, name=None)\n",
            "  134982103997648: TensorSpec(shape=(), dtype=tf.resource, name=None)\n",
            "  134982104003408: TensorSpec(shape=(), dtype=tf.resource, name=None)\n",
            "  134982104003792: TensorSpec(shape=(), dtype=tf.resource, name=None)\n",
            "  134982104004176: TensorSpec(shape=(), dtype=tf.resource, name=None)\n",
            "  134982104003984: TensorSpec(shape=(), dtype=tf.resource, name=None)\n",
            "  134982103991120: TensorSpec(shape=(), dtype=tf.resource, name=None)\n",
            "  134982104005328: TensorSpec(shape=(), dtype=tf.resource, name=None)\n",
            "  134982104005712: TensorSpec(shape=(), dtype=tf.resource, name=None)\n",
            "  134982104006480: TensorSpec(shape=(), dtype=tf.resource, name=None)\n",
            "  134982104005904: TensorSpec(shape=(), dtype=tf.resource, name=None)\n",
            "  134982104001488: TensorSpec(shape=(), dtype=tf.resource, name=None)\n",
            "  134982103995728: TensorSpec(shape=(), dtype=tf.resource, name=None)\n",
            "  134982104003024: TensorSpec(shape=(), dtype=tf.resource, name=None)\n",
            "  134982102434448: TensorSpec(shape=(), dtype=tf.resource, name=None)\n",
            "  134982102435792: TensorSpec(shape=(), dtype=tf.resource, name=None)\n",
            "  134982102434832: TensorSpec(shape=(), dtype=tf.resource, name=None)\n",
            "  134982102436752: TensorSpec(shape=(), dtype=tf.resource, name=None)\n",
            "  134982102437136: TensorSpec(shape=(), dtype=tf.resource, name=None)\n",
            "  134982102436944: TensorSpec(shape=(), dtype=tf.resource, name=None)\n",
            "  134982102435216: TensorSpec(shape=(), dtype=tf.resource, name=None)\n",
            "  134982102438288: TensorSpec(shape=(), dtype=tf.resource, name=None)\n",
            "  134982102438672: TensorSpec(shape=(), dtype=tf.resource, name=None)\n",
            "  134982102439056: TensorSpec(shape=(), dtype=tf.resource, name=None)\n",
            "  134982102438864: TensorSpec(shape=(), dtype=tf.resource, name=None)\n",
            "  134982102436176: TensorSpec(shape=(), dtype=tf.resource, name=None)\n",
            "  134982102437520: TensorSpec(shape=(), dtype=tf.resource, name=None)\n",
            "  134982102441360: TensorSpec(shape=(), dtype=tf.resource, name=None)\n"
          ]
        }
      ]
    },
    {
      "cell_type": "markdown",
      "source": [
        "# Writing Metadata"
      ],
      "metadata": {
        "id": "xCkq5GSgzkAX"
      }
    },
    {
      "cell_type": "markdown",
      "source": [
        "Once the model has been converted to TFLite, we need to write the metadata for it before it's useable for object detection testing."
      ],
      "metadata": {
        "id": "-mPTYD34zoWV"
      }
    },
    {
      "cell_type": "code",
      "source": [
        "_MODEL_PATH = \"/content/drive/MyDrive/Star Tracker/Model/Polaris/Polaris.tflite\"\n",
        "_LABEL_FILE = \"/content/drive/MyDrive/Star Tracker/Model/Polaris/labels.txt\"\n",
        "_SAVE_TO_PATH = \"/content/drive/MyDrive/Star Tracker/Model/Polaris/Polaris_metadata.tflite\""
      ],
      "metadata": {
        "id": "SrThro5t0Urk"
      },
      "execution_count": 25,
      "outputs": []
    },
    {
      "cell_type": "code",
      "source": [
        "ObjectDetectorWriter = object_detector.MetadataWriter\n",
        "\n",
        "_INPUT_NORM_MEAN = 127.5\n",
        "_INPUT_NORM_STD = 127.5\n",
        "\n",
        "# Create the metadata writer.\n",
        "writer = ObjectDetectorWriter.create_for_inference(\n",
        "    writer_utils.load_file(_MODEL_PATH), [_INPUT_NORM_MEAN], [_INPUT_NORM_STD],\n",
        "    [_LABEL_FILE])\n",
        "\n",
        "# Verify the metadata generated by metadata writer.\n",
        "print(writer.get_metadata_json())\n",
        "\n",
        "# Populate the metadata into the model.\n",
        "writer_utils.save_file(writer.populate(), _SAVE_TO_PATH)"
      ],
      "metadata": {
        "colab": {
          "base_uri": "https://localhost:8080/"
        },
        "id": "Iisz-5-6zlLG",
        "outputId": "dd31b694-10ff-4210-b24e-39115b48187c"
      },
      "execution_count": 26,
      "outputs": [
        {
          "output_type": "stream",
          "name": "stdout",
          "text": [
            "{\n",
            "  \"name\": \"ObjectDetector\",\n",
            "  \"description\": \"Identify which of a known set of objects might be present and provide information about their positions within the given image or a video stream.\",\n",
            "  \"subgraph_metadata\": [\n",
            "    {\n",
            "      \"input_tensor_metadata\": [\n",
            "        {\n",
            "          \"name\": \"image\",\n",
            "          \"description\": \"Input image to be detected.\",\n",
            "          \"content\": {\n",
            "            \"content_properties_type\": \"ImageProperties\",\n",
            "            \"content_properties\": {\n",
            "              \"color_space\": \"RGB\"\n",
            "            }\n",
            "          },\n",
            "          \"process_units\": [\n",
            "            {\n",
            "              \"options_type\": \"NormalizationOptions\",\n",
            "              \"options\": {\n",
            "                \"mean\": [\n",
            "                  127.5\n",
            "                ],\n",
            "                \"std\": [\n",
            "                  127.5\n",
            "                ]\n",
            "              }\n",
            "            }\n",
            "          ],\n",
            "          \"stats\": {\n",
            "            \"max\": [\n",
            "              1.0\n",
            "            ],\n",
            "            \"min\": [\n",
            "              -1.0\n",
            "            ]\n",
            "          }\n",
            "        }\n",
            "      ],\n",
            "      \"output_tensor_metadata\": [\n",
            "        {\n",
            "          \"name\": \"location\",\n",
            "          \"description\": \"The locations of the detected boxes.\",\n",
            "          \"content\": {\n",
            "            \"content_properties_type\": \"BoundingBoxProperties\",\n",
            "            \"content_properties\": {\n",
            "              \"index\": [\n",
            "                1,\n",
            "                0,\n",
            "                3,\n",
            "                2\n",
            "              ],\n",
            "              \"type\": \"BOUNDARIES\"\n",
            "            },\n",
            "            \"range\": {\n",
            "              \"min\": 2,\n",
            "              \"max\": 2\n",
            "            }\n",
            "          },\n",
            "          \"stats\": {\n",
            "          }\n",
            "        }\n",
            "      ],\n",
            "      \"output_tensor_groups\": [\n",
            "        {\n",
            "          \"name\": \"detection_result\",\n",
            "          \"tensor_names\": [\n",
            "            \"location\",\n",
            "            \"category\",\n",
            "            \"score\"\n",
            "          ]\n",
            "        }\n",
            "      ]\n",
            "    }\n",
            "  ]\n",
            "}\n",
            "\n"
          ]
        }
      ]
    },
    {
      "cell_type": "markdown",
      "source": [
        "# Object Detection"
      ],
      "metadata": {
        "id": "dIVpQUSghkoe"
      }
    },
    {
      "cell_type": "markdown",
      "source": [
        "The visualize function will allow us to visualize the results from the object detection test scenarios.\n",
        "\n"
      ],
      "metadata": {
        "id": "4dR5Yz28jTXp"
      }
    },
    {
      "cell_type": "code",
      "source": [
        "MARGIN = 10  # pixels\n",
        "ROW_SIZE = 10  # pixels\n",
        "FONT_SIZE = 1\n",
        "FONT_THICKNESS = 1\n",
        "TEXT_COLOR = (255, 0, 0)  # red\n",
        "\n",
        "\n",
        "def visualize(\n",
        "    image,\n",
        "    detection_result\n",
        ") -> np.ndarray:\n",
        "  \"\"\"Draws bounding boxes on the input image and return it.\n",
        "  Args:\n",
        "    image: The input RGB image.\n",
        "    detection_result: The list of all \"Detection\" entities to be visualize.\n",
        "  Returns:\n",
        "    Image with bounding boxes.\n",
        "  \"\"\"\n",
        "  for detection in detection_result.detections:\n",
        "    # Draw bounding_box\n",
        "    bbox = detection.bounding_box\n",
        "    start_point = bbox.origin_x, bbox.origin_y\n",
        "    end_point = bbox.origin_x + bbox.width, bbox.origin_y + bbox.height\n",
        "    cv2.rectangle(image, start_point, end_point, TEXT_COLOR, 3)\n",
        "\n",
        "    # Draw label and score\n",
        "    category = detection.categories[0]\n",
        "    category_name = category.category_name\n",
        "    probability = round(category.score, 2)\n",
        "    result_text = category_name + ' (' + str(probability) + ')'\n",
        "    text_location = (MARGIN + bbox.origin_x,\n",
        "                     MARGIN + ROW_SIZE + bbox.origin_y)\n",
        "    cv2.putText(image, result_text, text_location, cv2.FONT_HERSHEY_PLAIN,\n",
        "                FONT_SIZE, TEXT_COLOR, FONT_THICKNESS)\n",
        "\n",
        "  return image"
      ],
      "metadata": {
        "id": "uZSMuY7hitgb"
      },
      "execution_count": 10,
      "outputs": []
    },
    {
      "cell_type": "markdown",
      "source": [
        "Here we will implement the object detection features.\n",
        "\n",
        "Note: This is still in progress and is currently using an externally imported TFLite model for testing."
      ],
      "metadata": {
        "id": "dhD8tKkHj05j"
      }
    },
    {
      "cell_type": "code",
      "source": [
        "base_options = python.BaseOptions(model_asset_path='/content/drive/MyDrive/Star Tracker/Model/Polaris/Polaris_metadata.tflite')\n",
        "options = vision.ObjectDetectorOptions(base_options=base_options,\n",
        "                                       score_threshold=0.5)\n",
        "detector = vision.ObjectDetector.create_from_options(options)\n",
        "\n",
        "image = mp.Image.create_from_file('/content/drive/MyDrive/Star Tracker/RS1695_AL4I4805_ad78662bc5c0b4a1f0fa41c3e05dc51c.jpg')\n",
        "\n",
        "detection_result = detector.detect(image)\n",
        "\n",
        "image_copy = np.copy(image.numpy_view())\n",
        "annotated_image = visualize(image_copy, detection_result)\n",
        "rgb_annotated_image = cv2.cvtColor(annotated_image, cv2.COLOR_BGR2RGB)\n",
        "cv2_imshow(rgb_annotated_image)"
      ],
      "metadata": {
        "colab": {
          "base_uri": "https://localhost:8080/",
          "height": 356
        },
        "id": "3Db9rCozhvFO",
        "outputId": "c977054e-2e4d-4371-88b2-e6fe55dd45be"
      },
      "execution_count": 28,
      "outputs": [
        {
          "output_type": "error",
          "ename": "ValueError",
          "evalue": "Expected a model with 2 or 4 output tensors, found 1.",
          "traceback": [
            "\u001b[0;31m---------------------------------------------------------------------------\u001b[0m",
            "\u001b[0;31mValueError\u001b[0m                                Traceback (most recent call last)",
            "\u001b[0;32m<ipython-input-28-9bb7caac1c7d>\u001b[0m in \u001b[0;36m<cell line: 0>\u001b[0;34m()\u001b[0m\n\u001b[1;32m      2\u001b[0m options = vision.ObjectDetectorOptions(base_options=base_options,\n\u001b[1;32m      3\u001b[0m                                        score_threshold=0.5)\n\u001b[0;32m----> 4\u001b[0;31m \u001b[0mdetector\u001b[0m \u001b[0;34m=\u001b[0m \u001b[0mvision\u001b[0m\u001b[0;34m.\u001b[0m\u001b[0mObjectDetector\u001b[0m\u001b[0;34m.\u001b[0m\u001b[0mcreate_from_options\u001b[0m\u001b[0;34m(\u001b[0m\u001b[0moptions\u001b[0m\u001b[0;34m)\u001b[0m\u001b[0;34m\u001b[0m\u001b[0;34m\u001b[0m\u001b[0m\n\u001b[0m\u001b[1;32m      5\u001b[0m \u001b[0;34m\u001b[0m\u001b[0m\n\u001b[1;32m      6\u001b[0m \u001b[0mimage\u001b[0m \u001b[0;34m=\u001b[0m \u001b[0mmp\u001b[0m\u001b[0;34m.\u001b[0m\u001b[0mImage\u001b[0m\u001b[0;34m.\u001b[0m\u001b[0mcreate_from_file\u001b[0m\u001b[0;34m(\u001b[0m\u001b[0;34m'/content/drive/MyDrive/Star Tracker/RS1695_AL4I4805_ad78662bc5c0b4a1f0fa41c3e05dc51c.jpg'\u001b[0m\u001b[0;34m)\u001b[0m\u001b[0;34m\u001b[0m\u001b[0;34m\u001b[0m\u001b[0m\n",
            "\u001b[0;32m/usr/local/lib/python3.11/dist-packages/mediapipe/tasks/python/vision/object_detector.py\u001b[0m in \u001b[0;36mcreate_from_options\u001b[0;34m(cls, options)\u001b[0m\n\u001b[1;32m    236\u001b[0m         \u001b[0mtask_options\u001b[0m\u001b[0;34m=\u001b[0m\u001b[0moptions\u001b[0m\u001b[0;34m,\u001b[0m\u001b[0;34m\u001b[0m\u001b[0;34m\u001b[0m\u001b[0m\n\u001b[1;32m    237\u001b[0m     )\n\u001b[0;32m--> 238\u001b[0;31m     return cls(\n\u001b[0m\u001b[1;32m    239\u001b[0m         task_info.generate_graph_config(\n\u001b[1;32m    240\u001b[0m             \u001b[0menable_flow_limiting\u001b[0m\u001b[0;34m=\u001b[0m\u001b[0moptions\u001b[0m\u001b[0;34m.\u001b[0m\u001b[0mrunning_mode\u001b[0m\u001b[0;34m\u001b[0m\u001b[0;34m\u001b[0m\u001b[0m\n",
            "\u001b[0;32m/usr/local/lib/python3.11/dist-packages/mediapipe/tasks/python/vision/core/base_vision_task_api.py\u001b[0m in \u001b[0;36m__init__\u001b[0;34m(self, graph_config, running_mode, packet_callback)\u001b[0m\n\u001b[1;32m     68\u001b[0m           \u001b[0;34m'callback should not be provided.'\u001b[0m\u001b[0;34m\u001b[0m\u001b[0;34m\u001b[0m\u001b[0m\n\u001b[1;32m     69\u001b[0m       )\n\u001b[0;32m---> 70\u001b[0;31m     \u001b[0mself\u001b[0m\u001b[0;34m.\u001b[0m\u001b[0m_runner\u001b[0m \u001b[0;34m=\u001b[0m \u001b[0m_TaskRunner\u001b[0m\u001b[0;34m.\u001b[0m\u001b[0mcreate\u001b[0m\u001b[0;34m(\u001b[0m\u001b[0mgraph_config\u001b[0m\u001b[0;34m,\u001b[0m \u001b[0mpacket_callback\u001b[0m\u001b[0;34m)\u001b[0m\u001b[0;34m\u001b[0m\u001b[0;34m\u001b[0m\u001b[0m\n\u001b[0m\u001b[1;32m     71\u001b[0m     \u001b[0mself\u001b[0m\u001b[0;34m.\u001b[0m\u001b[0m_running_mode\u001b[0m \u001b[0;34m=\u001b[0m \u001b[0mrunning_mode\u001b[0m\u001b[0;34m\u001b[0m\u001b[0;34m\u001b[0m\u001b[0m\n\u001b[1;32m     72\u001b[0m \u001b[0;34m\u001b[0m\u001b[0m\n",
            "\u001b[0;31mValueError\u001b[0m: Expected a model with 2 or 4 output tensors, found 1."
          ]
        }
      ]
    }
  ]
}